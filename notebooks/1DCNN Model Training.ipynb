version https://git-lfs.github.com/spec/v1
oid sha256:cf62576c80d2bd7e40534578619e674d86ba7666a4e374f50f5f4bca1a3d65bf
size 188024
